{
 "metadata": {
  "name": ""
 },
 "nbformat": 3,
 "nbformat_minor": 0,
 "worksheets": [
  {
   "cells": [
    {
     "cell_type": "code",
     "collapsed": false,
     "input": [
      "from sklearn.datasets import load_iris\n",
      "from matplotlib import pyplot as plt\n",
      "import numpy as np\n",
      "data =load_iris()\n",
      "features = data.data\n",
      "features_names =data.feature_names\n",
      "target=data.target\n",
      "for t,marker,c in zip(xrange(3),\">ox\",\"rgb\"): #brilliant\n",
      "    plt.scatter(features[target==t,0],features[target==t,1],marker=marker, c=c)\n",
      "plt.show()"
     ],
     "language": "python",
     "metadata": {},
     "outputs": [],
     "prompt_number": 6
    },
    {
     "cell_type": "code",
     "collapsed": false,
     "input": [
      "plen = features[:,2]\n",
      "data.keys()\n",
      "is_setosa=(data.target_names=='setosa')\n",
      "max_setosa = plen[is_setosa].max()\n",
      "min_non_setosa = plen[~is_setosa].min()"
     ],
     "language": "python",
     "metadata": {},
     "outputs": [],
     "prompt_number": 12
    },
    {
     "cell_type": "code",
     "collapsed": false,
     "input": [
      "print('max setosa: {0}\\nmin not setosa: {1}'.format(max_setosa,min_non_setosa))"
     ],
     "language": "python",
     "metadata": {},
     "outputs": [
      {
       "output_type": "stream",
       "stream": "stdout",
       "text": [
        "max setosa: 1.4\n",
        "min not setosa: 1.3\n"
       ]
      }
     ],
     "prompt_number": 15
    },
    {
     "cell_type": "code",
     "collapsed": false,
     "input": [],
     "language": "python",
     "metadata": {},
     "outputs": [],
     "prompt_number": 6
    },
    {
     "cell_type": "code",
     "collapsed": false,
     "input": [],
     "language": "python",
     "metadata": {},
     "outputs": []
    }
   ],
   "metadata": {}
  }
 ]
}