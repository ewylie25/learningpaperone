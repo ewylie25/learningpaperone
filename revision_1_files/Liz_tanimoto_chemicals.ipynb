{
 "metadata": {
  "name": "",
  "signature": "sha256:75ff82c1167a53ce55dc69386380b387bfe10d90d1e7cbe34ef8050949367001"
 },
 "nbformat": 3,
 "nbformat_minor": 0,
 "worksheets": [
  {
   "cells": [
    {
     "cell_type": "code",
     "collapsed": false,
     "input": [
      "import pymongo\n",
      "from rdkit import Chem\n",
      "import numpy as np\n",
      "from __future__ import division\n",
      "from itertools import combinations_with_replacement\n",
      "from random import shuffle, randint\n",
      "from scipy import sparse\n",
      "import matplotlib.pyplot as plt\n",
      "import matplotlib.cm as cm\n",
      "%matplotlib inline"
     ],
     "language": "python",
     "metadata": {},
     "outputs": [],
     "prompt_number": 23
    },
    {
     "cell_type": "code",
     "collapsed": false,
     "input": [
      "db1 = pymongo.MongoClient(host = '129.105.205.35').new_data\n",
      "db2 = pymongo.MongoClient(host='129.105.205.35').temp_random\n",
      "with open('smiles_files/random_smiles.txt') as f:\n",
      "    data = f.readlines()\n",
      "data = [i.strip('\\n') for i in data]"
     ],
     "language": "python",
     "metadata": {},
     "outputs": [],
     "prompt_number": 4
    },
    {
     "cell_type": "markdown",
     "metadata": {},
     "source": [
      "DO NOT RUN\n",
      "`need = []`\n",
      "`for i, j in enumerate(data):`\n",
      "`    entry = db1.chemical.find_one({'smiles':j}); \n",
      "`        if entry:`\n",
      "`entry['_id'] = i`\n",
      "`db2.chemical.save(entry) else: db2.chemical.save({'_id':i, 'smiles':j})`\n",
      "Ran java fp code\n",
      "`cursor = db2.chemical.find({\"fingerprint_count\":{'$exists':False}},snapshot=True)\n",
      "`for i in cursor:\n",
      "    _id = i['_id']\n",
      "    c = len(i['fingerprints'])\n",
      "    db2.chemical.update({\"_id\":_id}, {'$set':{\"fingerprint_count\":c}})\n",
      "`cursor.close()"
     ]
    },
    {
     "cell_type": "markdown",
     "metadata": {},
     "source": [
      "for i, j in enumerate(data): \n",
      "    entry = db1.chemical.find_one({'smiles':j})\n",
      "    if entry:\n",
      "        entry['_id'] = i\n",
      "        db2.chemical.save(entry) \n",
      "    else: \n",
      "        db2.chemical.save({'_id':i, 'smiles':j})"
     ]
    },
    {
     "cell_type": "code",
     "collapsed": false,
     "input": [
      "total = range(100000)\n",
      "shuffle(total)\n",
      "cs = total[:100]\n",
      "legend = {}\n",
      "for i, j in enumerate(cs):\n",
      "    legend[j]= i\n",
      "base = np.zeros((100,100))\n",
      "for i, j in combinations_with_replacement(cs, 2):\n",
      "    entry_1 = db2.chemical.find_one({'_id':i})\n",
      "    l_1 = entry_1['fingerprint_count']\n",
      "    f_1 = entry_1['fingerprints']\n",
      "    if not f_1:\n",
      "        continue\n",
      "    entry_2 = db2.chemical.find_one({'_id':j}) \n",
      "    l_2 = entry_2['fingerprint_count']\n",
      "    f_2 = entry_2['fingerprints']\n",
      "    if not f_2:\n",
      "        continue\n",
      "    try:\n",
      "        overlap = len(set(f_1) & set(f_2))\n",
      "        if i == j:\n",
      "            tm = 1.0\n",
      "        else:\n",
      "            tm = overlap/(l_1+l_2-overlap)\n",
      "        base[legend[i],legend[j]] = tm\n",
      "        base[legend[j], legend[i]] = tm\n",
      "    except Exception as e:\n",
      "        print e\n",
      "        continue"
     ],
     "language": "python",
     "metadata": {},
     "outputs": [],
     "prompt_number": 14
    },
    {
     "cell_type": "code",
     "collapsed": false,
     "input": [
      "shuffle(total)\n",
      "cs = total[:100]\n",
      "legend = {}\n",
      "for i, j in enumerate(cs):\n",
      "    legend[j]= i\n",
      "base_2 = np.zeros((100,100))\n",
      "for i, j in combinations_with_replacement(cs, 2):\n",
      "    entry_1 = db2.chemical.find_one({'_id':i})\n",
      "    l_1 = entry_1['fingerprint_count']\n",
      "    f_1 = entry_1['fingerprints']\n",
      "    if not f_1:\n",
      "        continue\n",
      "    entry_2 = db2.chemical.find_one({'_id':j}) \n",
      "    l_2 = entry_2['fingerprint_count']\n",
      "    f_2 = entry_2['fingerprints']\n",
      "    if not f_2:\n",
      "        continue\n",
      "    try:\n",
      "        overlap = len(set(f_1) & set(f_2))\n",
      "        if i == j:\n",
      "            tm = 1.0\n",
      "        else:\n",
      "            tm = overlap/(l_1+l_2-overlap)\n",
      "        base_2[legend[i],legend[j]] = tm\n",
      "        base_2[legend[j], legend[i]] = tm\n",
      "    except Exception as e:\n",
      "        print e\n",
      "        continue"
     ],
     "language": "python",
     "metadata": {},
     "outputs": [],
     "prompt_number": 15
    },
    {
     "cell_type": "code",
     "collapsed": false,
     "input": [
      "shuffle(total)\n",
      "cs = total[:100]\n",
      "legend = {}\n",
      "for i, j in enumerate(cs):\n",
      "    legend[j]= i\n",
      "base_3 = np.zeros((100,100))\n",
      "for i, j in combinations_with_replacement(cs, 2):\n",
      "    entry_1 = db2.chemical.find_one({'_id':i})\n",
      "    l_1 = entry_1['fingerprint_count']\n",
      "    f_1 = entry_1['fingerprints']\n",
      "    if not f_1:\n",
      "        continue\n",
      "    entry_2 = db2.chemical.find_one({'_id':j}) \n",
      "    l_2 = entry_2['fingerprint_count']\n",
      "    f_2 = entry_2['fingerprints']\n",
      "    if not f_2:\n",
      "        continue\n",
      "    try:\n",
      "        overlap = len(set(f_1) & set(f_2))\n",
      "        if i == j:\n",
      "            tm = 1.0\n",
      "        else:\n",
      "            tm = overlap/(l_1+l_2-overlap)\n",
      "        base_3[legend[i],legend[j]] = tm\n",
      "        base_3[legend[j], legend[i]] = tm\n",
      "    except Exception as e:\n",
      "        print e\n",
      "        continue"
     ],
     "language": "python",
     "metadata": {},
     "outputs": [],
     "prompt_number": 16
    },
    {
     "cell_type": "code",
     "collapsed": false,
     "input": [
      "shuffle(total)\n",
      "cs = total[:100]\n",
      "legend = {}\n",
      "for i, j in enumerate(cs):\n",
      "    legend[j]= i\n",
      "base_4 = np.zeros((100,100))\n",
      "for i, j in combinations_with_replacement(cs, 2):\n",
      "    entry_1 = db2.chemical.find_one({'_id':i})\n",
      "    l_1 = entry_1['fingerprint_count']\n",
      "    f_1 = entry_1['fingerprints']\n",
      "    if not f_1:\n",
      "        continue\n",
      "    entry_2 = db2.chemical.find_one({'_id':j}) \n",
      "    l_2 = entry_2['fingerprint_count']\n",
      "    f_2 = entry_2['fingerprints']\n",
      "    if not f_2:\n",
      "        continue\n",
      "    try:\n",
      "        overlap = len(set(f_1) & set(f_2))\n",
      "        if i == j:\n",
      "            tm = 1.0\n",
      "        else:\n",
      "            tm = overlap/(l_1+l_2-overlap)\n",
      "        base_4[legend[i],legend[j]] = tm\n",
      "        base_4[legend[j], legend[i]] = tm\n",
      "    except Exception as e:\n",
      "        print e\n",
      "        continue"
     ],
     "language": "python",
     "metadata": {},
     "outputs": [],
     "prompt_number": 19
    },
    {
     "cell_type": "code",
     "collapsed": false,
     "input": [
      "fig = plt.figure(figsize=(10,10))\n",
      "ax1 = fig.add_subplot(2,2,1)\n",
      "f1 = ax1.imshow(base, cmap=cm.jet, interpolation=\"nearest\")\n",
      "ax1.axes.get_xaxis().set_visible(False)\n",
      "ax1.axes.get_yaxis().set_visible(False)\n",
      "#ax1.set_title(\"100x100\")\n",
      "ax2 = fig.add_subplot(2,2,2)\n",
      "ax2.imshow(base_2, cmap=cm.jet, interpolation=\"nearest\")\n",
      "ax2.axes.get_xaxis().set_visible(False)\n",
      "ax2.axes.get_yaxis().set_visible(False)\n",
      "#ax2.set_title(\"75x75\")\n",
      "ax3 = fig.add_subplot(2,2,3)\n",
      "ax3.imshow(base_3, cmap=cm.jet, interpolation=\"nearest\")\n",
      "ax3.axes.get_xaxis().set_visible(False)\n",
      "ax3.axes.get_yaxis().set_visible(False)\n",
      "#ax3.set_title(\"50x50\")\n",
      "ax4 = fig.add_subplot(2,2,4)\n",
      "ax4.imshow(base_4, cmap=cm.jet, interpolation=\"nearest\")\n",
      "ax4.axes.get_xaxis().set_visible(False)\n",
      "ax4.axes.get_yaxis().set_visible(False)\n",
      "#ax4.set_title(\"25x25\")\n",
      "\n",
      "fig.subplots_adjust(right=0.8)\n",
      "cbar_ax = fig.add_axes([0.85, 0.15, 0.05, 0.7])\n",
      "cbar = fig.colorbar(f1, cax=cbar_ax)\n",
      "fig.savefig(\"tanimoto.png\", transparent=True)"
     ],
     "language": "python",
     "metadata": {},
     "outputs": [
      {
       "metadata": {},
       "output_type": "display_data",
       "png": "[encoded data removed]",
       "text": [
        "<matplotlib.figure.Figure at 0x3ef1590>"
       ]
      }
     ],
     "prompt_number": 22
    },
    {
     "cell_type": "code",
     "collapsed": false,
     "input": [
      "count = 0\n",
      "total = []\n",
      "while count <10000:\n",
      "    a = randint(0,100000)\n",
      "    b = randint(0,100000)\n",
      "    entry_1 = db2.chemical.find_one({'_id':a})\n",
      "    if not entry_1:\n",
      "        print a\n",
      "        continue\n",
      "    f_1 = entry_1['fingerprints']\n",
      "    if not f_1:\n",
      "        continue\n",
      "    l_1 = entry_1['fingerprint_count']\n",
      "    entry_2 = db2.chemical.find_one({'_id':b}) \n",
      "    if not entry_2:\n",
      "        print b\n",
      "        continue\n",
      "    f_2 = entry_2['fingerprints']\n",
      "    if not f_2:\n",
      "        continue\n",
      "    l_2 = entry_2['fingerprint_count']\n",
      "    try:\n",
      "        overlap = len(set(f_1) & set(f_2))\n",
      "        if a == b:\n",
      "            continue\n",
      "        else:\n",
      "            tm = overlap/(l_1+l_2-overlap)\n",
      "        total.append(tm)\n",
      "        count += 1\n",
      "    except Exception as e:\n",
      "        print e\n",
      "        continue"
     ],
     "language": "python",
     "metadata": {},
     "outputs": [
      {
       "output_type": "stream",
       "stream": "stdout",
       "text": [
        "99878\n",
        "99960"
       ]
      },
      {
       "output_type": "stream",
       "stream": "stdout",
       "text": [
        "\n",
        "99997"
       ]
      },
      {
       "output_type": "stream",
       "stream": "stdout",
       "text": [
        "\n",
        "99910"
       ]
      },
      {
       "output_type": "stream",
       "stream": "stdout",
       "text": [
        "\n",
        "99947"
       ]
      },
      {
       "output_type": "stream",
       "stream": "stdout",
       "text": [
        "\n",
        "99897\n",
        "99818"
       ]
      },
      {
       "output_type": "stream",
       "stream": "stdout",
       "text": [
        "\n",
        "99839"
       ]
      },
      {
       "output_type": "stream",
       "stream": "stdout",
       "text": [
        "\n",
        "99870"
       ]
      },
      {
       "output_type": "stream",
       "stream": "stdout",
       "text": [
        "\n",
        "99982"
       ]
      },
      {
       "output_type": "stream",
       "stream": "stdout",
       "text": [
        "\n",
        "99986"
       ]
      },
      {
       "output_type": "stream",
       "stream": "stdout",
       "text": [
        "\n",
        "99960"
       ]
      },
      {
       "output_type": "stream",
       "stream": "stdout",
       "text": [
        "\n",
        "99945"
       ]
      },
      {
       "output_type": "stream",
       "stream": "stdout",
       "text": [
        "\n",
        "99855"
       ]
      },
      {
       "output_type": "stream",
       "stream": "stdout",
       "text": [
        "\n",
        "99931"
       ]
      },
      {
       "output_type": "stream",
       "stream": "stdout",
       "text": [
        "\n",
        "99846"
       ]
      },
      {
       "output_type": "stream",
       "stream": "stdout",
       "text": [
        "\n",
        "99986"
       ]
      },
      {
       "output_type": "stream",
       "stream": "stdout",
       "text": [
        "\n",
        "99933"
       ]
      },
      {
       "output_type": "stream",
       "stream": "stdout",
       "text": [
        "\n",
        "99915"
       ]
      },
      {
       "output_type": "stream",
       "stream": "stdout",
       "text": [
        "\n",
        "99865"
       ]
      },
      {
       "output_type": "stream",
       "stream": "stdout",
       "text": [
        "\n",
        "99893"
       ]
      },
      {
       "output_type": "stream",
       "stream": "stdout",
       "text": [
        "\n",
        "99907"
       ]
      },
      {
       "output_type": "stream",
       "stream": "stdout",
       "text": [
        "\n",
        "99847"
       ]
      },
      {
       "output_type": "stream",
       "stream": "stdout",
       "text": [
        "\n",
        "99962"
       ]
      },
      {
       "output_type": "stream",
       "stream": "stdout",
       "text": [
        "\n",
        "99875"
       ]
      },
      {
       "output_type": "stream",
       "stream": "stdout",
       "text": [
        "\n",
        "99837"
       ]
      },
      {
       "output_type": "stream",
       "stream": "stdout",
       "text": [
        "\n",
        "99833\n",
        "99990"
       ]
      },
      {
       "output_type": "stream",
       "stream": "stdout",
       "text": [
        "\n",
        "99945"
       ]
      },
      {
       "output_type": "stream",
       "stream": "stdout",
       "text": [
        "\n",
        "99810"
       ]
      },
      {
       "output_type": "stream",
       "stream": "stdout",
       "text": [
        "\n",
        "99919"
       ]
      },
      {
       "output_type": "stream",
       "stream": "stdout",
       "text": [
        "\n",
        "99951"
       ]
      },
      {
       "output_type": "stream",
       "stream": "stdout",
       "text": [
        "\n",
        "99956\n",
        "99806"
       ]
      },
      {
       "output_type": "stream",
       "stream": "stdout",
       "text": [
        "\n",
        "99879"
       ]
      },
      {
       "output_type": "stream",
       "stream": "stdout",
       "text": [
        "\n",
        "99979"
       ]
      },
      {
       "output_type": "stream",
       "stream": "stdout",
       "text": [
        "\n",
        "99855"
       ]
      },
      {
       "output_type": "stream",
       "stream": "stdout",
       "text": [
        "\n",
        "99901"
       ]
      },
      {
       "output_type": "stream",
       "stream": "stdout",
       "text": [
        "\n",
        "99892"
       ]
      },
      {
       "output_type": "stream",
       "stream": "stdout",
       "text": [
        "\n",
        "99851"
       ]
      },
      {
       "output_type": "stream",
       "stream": "stdout",
       "text": [
        "\n",
        "99849"
       ]
      },
      {
       "output_type": "stream",
       "stream": "stdout",
       "text": [
        "\n",
        "99988"
       ]
      },
      {
       "output_type": "stream",
       "stream": "stdout",
       "text": [
        "\n",
        "99903"
       ]
      },
      {
       "output_type": "stream",
       "stream": "stdout",
       "text": [
        "\n"
       ]
      }
     ],
     "prompt_number": 43
    },
    {
     "cell_type": "code",
     "collapsed": false,
     "input": [
      "count = 0\n",
      "total_2 = []\n",
      "while count <10000:\n",
      "    a = randint(0,100000)\n",
      "    b = randint(0,100000)\n",
      "    entry_1 = db2.chemical.find_one({'_id':a})\n",
      "    if not entry_1:\n",
      "        print a\n",
      "        continue\n",
      "    f_1 = entry_1['fingerprints']\n",
      "    if not f_1:\n",
      "        continue\n",
      "    l_1 = entry_1['fingerprint_count']\n",
      "    entry_2 = db2.chemical.find_one({'_id':b}) \n",
      "    if not entry_2:\n",
      "        print b\n",
      "        continue\n",
      "    f_2 = entry_2['fingerprints']\n",
      "    if not f_2:\n",
      "        continue\n",
      "    l_2 = entry_2['fingerprint_count']\n",
      "    try:\n",
      "        overlap = len(set(f_1) & set(f_2))\n",
      "        if a == b:\n",
      "            continue\n",
      "        else:\n",
      "            tm = overlap/(l_1+l_2-overlap)\n",
      "        total_2.append(tm)\n",
      "        count += 1\n",
      "    except Exception as e:\n",
      "        print e\n",
      "        continue"
     ],
     "language": "python",
     "metadata": {},
     "outputs": [
      {
       "output_type": "stream",
       "stream": "stdout",
       "text": [
        "99967\n",
        "99926"
       ]
      },
      {
       "output_type": "stream",
       "stream": "stdout",
       "text": [
        "\n",
        "99967"
       ]
      },
      {
       "output_type": "stream",
       "stream": "stdout",
       "text": [
        "\n",
        "99958"
       ]
      },
      {
       "output_type": "stream",
       "stream": "stdout",
       "text": [
        "\n",
        "99850"
       ]
      },
      {
       "output_type": "stream",
       "stream": "stdout",
       "text": [
        "\n",
        "99851"
       ]
      },
      {
       "output_type": "stream",
       "stream": "stdout",
       "text": [
        "\n",
        "99984"
       ]
      },
      {
       "output_type": "stream",
       "stream": "stdout",
       "text": [
        "\n",
        "99868"
       ]
      },
      {
       "output_type": "stream",
       "stream": "stdout",
       "text": [
        "\n",
        "99882"
       ]
      },
      {
       "output_type": "stream",
       "stream": "stdout",
       "text": [
        "\n",
        "99896"
       ]
      },
      {
       "output_type": "stream",
       "stream": "stdout",
       "text": [
        "\n",
        "99937"
       ]
      },
      {
       "output_type": "stream",
       "stream": "stdout",
       "text": [
        "\n",
        "99877"
       ]
      },
      {
       "output_type": "stream",
       "stream": "stdout",
       "text": [
        "\n",
        "99828"
       ]
      },
      {
       "output_type": "stream",
       "stream": "stdout",
       "text": [
        "\n",
        "99983"
       ]
      },
      {
       "output_type": "stream",
       "stream": "stdout",
       "text": [
        "\n",
        "99914"
       ]
      },
      {
       "output_type": "stream",
       "stream": "stdout",
       "text": [
        "\n",
        "99819"
       ]
      },
      {
       "output_type": "stream",
       "stream": "stdout",
       "text": [
        "\n",
        "99945"
       ]
      },
      {
       "output_type": "stream",
       "stream": "stdout",
       "text": [
        "\n",
        "99934"
       ]
      },
      {
       "output_type": "stream",
       "stream": "stdout",
       "text": [
        "\n",
        "99936"
       ]
      },
      {
       "output_type": "stream",
       "stream": "stdout",
       "text": [
        "\n",
        "99877\n",
        "99917"
       ]
      },
      {
       "output_type": "stream",
       "stream": "stdout",
       "text": [
        "\n",
        "99936"
       ]
      },
      {
       "output_type": "stream",
       "stream": "stdout",
       "text": [
        "\n",
        "99934"
       ]
      },
      {
       "output_type": "stream",
       "stream": "stdout",
       "text": [
        "\n",
        "99970"
       ]
      },
      {
       "output_type": "stream",
       "stream": "stdout",
       "text": [
        "\n",
        "99898"
       ]
      },
      {
       "output_type": "stream",
       "stream": "stdout",
       "text": [
        "\n",
        "99822"
       ]
      },
      {
       "output_type": "stream",
       "stream": "stdout",
       "text": [
        "\n",
        "99875"
       ]
      },
      {
       "output_type": "stream",
       "stream": "stdout",
       "text": [
        "\n",
        "99913"
       ]
      },
      {
       "output_type": "stream",
       "stream": "stdout",
       "text": [
        "\n",
        "99848"
       ]
      },
      {
       "output_type": "stream",
       "stream": "stdout",
       "text": [
        "\n",
        "99852"
       ]
      },
      {
       "output_type": "stream",
       "stream": "stdout",
       "text": [
        "\n",
        "99934\n",
        "99831"
       ]
      },
      {
       "output_type": "stream",
       "stream": "stdout",
       "text": [
        "\n",
        "99963"
       ]
      },
      {
       "output_type": "stream",
       "stream": "stdout",
       "text": [
        "\n"
       ]
      }
     ],
     "prompt_number": 49
    },
    {
     "cell_type": "code",
     "collapsed": false,
     "input": [
      "count = 0\n",
      "total_3 = []\n",
      "while count <10000:\n",
      "    a = randint(0,100000)\n",
      "    b = randint(0,100000)\n",
      "    entry_1 = db2.chemical.find_one({'_id':a})\n",
      "    if not entry_1:\n",
      "        print a\n",
      "        continue\n",
      "    f_1 = entry_1['fingerprints']\n",
      "    if not f_1:\n",
      "        continue\n",
      "    l_1 = entry_1['fingerprint_count']\n",
      "    entry_2 = db2.chemical.find_one({'_id':b}) \n",
      "    if not entry_2:\n",
      "        print b\n",
      "        continue\n",
      "    f_2 = entry_2['fingerprints']\n",
      "    if not f_2:\n",
      "        continue\n",
      "    l_2 = entry_2['fingerprint_count']\n",
      "    try:\n",
      "        overlap = len(set(f_1) & set(f_2))\n",
      "        if a == b:\n",
      "            continue\n",
      "        else:\n",
      "            tm = overlap/(l_1+l_2-overlap)\n",
      "        total_3.append(tm)\n",
      "        count += 1\n",
      "    except Exception as e:\n",
      "        print e\n",
      "        continue"
     ],
     "language": "python",
     "metadata": {},
     "outputs": [
      {
       "output_type": "stream",
       "stream": "stdout",
       "text": [
        "99863\n",
        "99923"
       ]
      },
      {
       "output_type": "stream",
       "stream": "stdout",
       "text": [
        "\n",
        "99981"
       ]
      },
      {
       "output_type": "stream",
       "stream": "stdout",
       "text": [
        "\n",
        "99826"
       ]
      },
      {
       "output_type": "stream",
       "stream": "stdout",
       "text": [
        "\n",
        "99907"
       ]
      },
      {
       "output_type": "stream",
       "stream": "stdout",
       "text": [
        "\n",
        "99903"
       ]
      },
      {
       "output_type": "stream",
       "stream": "stdout",
       "text": [
        "\n",
        "99979"
       ]
      },
      {
       "output_type": "stream",
       "stream": "stdout",
       "text": [
        "\n",
        "99883"
       ]
      },
      {
       "output_type": "stream",
       "stream": "stdout",
       "text": [
        "\n",
        "99914"
       ]
      },
      {
       "output_type": "stream",
       "stream": "stdout",
       "text": [
        "\n",
        "99890"
       ]
      },
      {
       "output_type": "stream",
       "stream": "stdout",
       "text": [
        "\n",
        "99878"
       ]
      },
      {
       "output_type": "stream",
       "stream": "stdout",
       "text": [
        "\n",
        "99886"
       ]
      },
      {
       "output_type": "stream",
       "stream": "stdout",
       "text": [
        "\n",
        "99932"
       ]
      },
      {
       "output_type": "stream",
       "stream": "stdout",
       "text": [
        "\n",
        "99936"
       ]
      },
      {
       "output_type": "stream",
       "stream": "stdout",
       "text": [
        "\n",
        "99976"
       ]
      },
      {
       "output_type": "stream",
       "stream": "stdout",
       "text": [
        "\n",
        "99897"
       ]
      },
      {
       "output_type": "stream",
       "stream": "stdout",
       "text": [
        "\n",
        "99841"
       ]
      },
      {
       "output_type": "stream",
       "stream": "stdout",
       "text": [
        "\n",
        "99804"
       ]
      },
      {
       "output_type": "stream",
       "stream": "stdout",
       "text": [
        "\n",
        "99953"
       ]
      },
      {
       "output_type": "stream",
       "stream": "stdout",
       "text": [
        "\n",
        "99846\n",
        "99977"
       ]
      },
      {
       "output_type": "stream",
       "stream": "stdout",
       "text": [
        "\n",
        "99913"
       ]
      },
      {
       "output_type": "stream",
       "stream": "stdout",
       "text": [
        "\n",
        "99836"
       ]
      },
      {
       "output_type": "stream",
       "stream": "stdout",
       "text": [
        "\n",
        "99832"
       ]
      },
      {
       "output_type": "stream",
       "stream": "stdout",
       "text": [
        "\n",
        "99921"
       ]
      },
      {
       "output_type": "stream",
       "stream": "stdout",
       "text": [
        "\n",
        "99845"
       ]
      },
      {
       "output_type": "stream",
       "stream": "stdout",
       "text": [
        "\n",
        "99823"
       ]
      },
      {
       "output_type": "stream",
       "stream": "stdout",
       "text": [
        "\n",
        "99891"
       ]
      },
      {
       "output_type": "stream",
       "stream": "stdout",
       "text": [
        "\n",
        "99951"
       ]
      },
      {
       "output_type": "stream",
       "stream": "stdout",
       "text": [
        "\n",
        "99820"
       ]
      },
      {
       "output_type": "stream",
       "stream": "stdout",
       "text": [
        "\n",
        "99960"
       ]
      },
      {
       "output_type": "stream",
       "stream": "stdout",
       "text": [
        "\n",
        "99998"
       ]
      },
      {
       "output_type": "stream",
       "stream": "stdout",
       "text": [
        "\n"
       ]
      }
     ],
     "prompt_number": 50
    },
    {
     "cell_type": "code",
     "collapsed": false,
     "input": [
      "count = 0\n",
      "total_4 = []\n",
      "while count <10000:\n",
      "    a = randint(0,100000)\n",
      "    b = randint(0,100000)\n",
      "    entry_1 = db2.chemical.find_one({'_id':a})\n",
      "    if not entry_1:\n",
      "        print a\n",
      "        continue\n",
      "    f_1 = entry_1['fingerprints']\n",
      "    if not f_1:\n",
      "        continue\n",
      "    l_1 = entry_1['fingerprint_count']\n",
      "    entry_2 = db2.chemical.find_one({'_id':b}) \n",
      "    if not entry_2:\n",
      "        print b\n",
      "        continue\n",
      "    f_2 = entry_2['fingerprints']\n",
      "    if not f_2:\n",
      "        continue\n",
      "    l_2 = entry_2['fingerprint_count']\n",
      "    try:\n",
      "        overlap = len(set(f_1) & set(f_2))\n",
      "        if a == b:\n",
      "            continue\n",
      "        else:\n",
      "            tm = overlap/(l_1+l_2-overlap)\n",
      "        total_4.append(tm)\n",
      "        count += 1\n",
      "    except Exception as e:\n",
      "        print e\n",
      "        continue"
     ],
     "language": "python",
     "metadata": {},
     "outputs": [
      {
       "output_type": "stream",
       "stream": "stdout",
       "text": [
        "99993\n",
        "99893"
       ]
      },
      {
       "output_type": "stream",
       "stream": "stdout",
       "text": [
        "\n",
        "99896"
       ]
      },
      {
       "output_type": "stream",
       "stream": "stdout",
       "text": [
        "\n",
        "99871"
       ]
      },
      {
       "output_type": "stream",
       "stream": "stdout",
       "text": [
        "\n",
        "99809"
       ]
      },
      {
       "output_type": "stream",
       "stream": "stdout",
       "text": [
        "\n",
        "99999"
       ]
      },
      {
       "output_type": "stream",
       "stream": "stdout",
       "text": [
        "\n",
        "99911"
       ]
      },
      {
       "output_type": "stream",
       "stream": "stdout",
       "text": [
        "\n",
        "99835"
       ]
      },
      {
       "output_type": "stream",
       "stream": "stdout",
       "text": [
        "\n",
        "99970\n",
        "99925"
       ]
      },
      {
       "output_type": "stream",
       "stream": "stdout",
       "text": [
        "\n",
        "99996"
       ]
      },
      {
       "output_type": "stream",
       "stream": "stdout",
       "text": [
        "\n",
        "99935"
       ]
      },
      {
       "output_type": "stream",
       "stream": "stdout",
       "text": [
        "\n",
        "99929"
       ]
      },
      {
       "output_type": "stream",
       "stream": "stdout",
       "text": [
        "\n",
        "99825\n",
        "99986"
       ]
      },
      {
       "output_type": "stream",
       "stream": "stdout",
       "text": [
        "\n",
        "99956\n",
        "99998"
       ]
      },
      {
       "output_type": "stream",
       "stream": "stdout",
       "text": [
        "\n",
        "99804"
       ]
      },
      {
       "output_type": "stream",
       "stream": "stdout",
       "text": [
        "\n",
        "99864"
       ]
      },
      {
       "output_type": "stream",
       "stream": "stdout",
       "text": [
        "\n",
        "99993"
       ]
      },
      {
       "output_type": "stream",
       "stream": "stdout",
       "text": [
        "\n",
        "99824"
       ]
      },
      {
       "output_type": "stream",
       "stream": "stdout",
       "text": [
        "\n",
        "99914"
       ]
      },
      {
       "output_type": "stream",
       "stream": "stdout",
       "text": [
        "\n",
        "99969\n",
        "99881"
       ]
      },
      {
       "output_type": "stream",
       "stream": "stdout",
       "text": [
        "\n",
        "99818"
       ]
      },
      {
       "output_type": "stream",
       "stream": "stdout",
       "text": [
        "\n",
        "99807"
       ]
      },
      {
       "output_type": "stream",
       "stream": "stdout",
       "text": [
        "\n",
        "99900"
       ]
      },
      {
       "output_type": "stream",
       "stream": "stdout",
       "text": [
        "\n",
        "99910"
       ]
      },
      {
       "output_type": "stream",
       "stream": "stdout",
       "text": [
        "\n",
        "99849"
       ]
      },
      {
       "output_type": "stream",
       "stream": "stdout",
       "text": [
        "\n",
        "99835"
       ]
      },
      {
       "output_type": "stream",
       "stream": "stdout",
       "text": [
        "\n",
        "99869\n",
        "99847"
       ]
      },
      {
       "output_type": "stream",
       "stream": "stdout",
       "text": [
        "\n",
        "99992"
       ]
      },
      {
       "output_type": "stream",
       "stream": "stdout",
       "text": [
        "\n",
        "99826"
       ]
      },
      {
       "output_type": "stream",
       "stream": "stdout",
       "text": [
        "\n",
        "99938"
       ]
      },
      {
       "output_type": "stream",
       "stream": "stdout",
       "text": [
        "\n",
        "99953"
       ]
      },
      {
       "output_type": "stream",
       "stream": "stdout",
       "text": [
        "\n",
        "99954"
       ]
      },
      {
       "output_type": "stream",
       "stream": "stdout",
       "text": [
        "\n",
        "99873"
       ]
      },
      {
       "output_type": "stream",
       "stream": "stdout",
       "text": [
        "\n",
        "99942"
       ]
      },
      {
       "output_type": "stream",
       "stream": "stdout",
       "text": [
        "\n",
        "99864"
       ]
      },
      {
       "output_type": "stream",
       "stream": "stdout",
       "text": [
        "\n",
        "99948"
       ]
      },
      {
       "output_type": "stream",
       "stream": "stdout",
       "text": [
        "\n"
       ]
      }
     ],
     "prompt_number": 51
    },
    {
     "cell_type": "code",
     "collapsed": false,
     "input": [
      "fig= plt.figure(figsize=(16, 8))\n",
      "ax = fig.add_subplot(1,1,1)\n",
      "n_1, bins_1, patches_1 = ax.hist(total,500, histtype=\"step\", label=\"100,000\")\n",
      "n_2, bins_2, patches_2 = ax.hist(total_2,500, histtype=\"step\", label=\"100,000\")\n",
      "n_3, bins_3, patches_3 = ax.hist(total_3,500, histtype=\"step\", label=\"100,000\")\n",
      "n_4, bins_4, patches_4 = ax.hist(total_4,500, histtype=\"step\", label=\"100,000\")"
     ],
     "language": "python",
     "metadata": {},
     "outputs": [
      {
       "metadata": {},
       "output_type": "display_data",
       "png": "[encoded data removed]",
       "text": [
        "<matplotlib.figure.Figure at 0x4be24d0>"
       ]
      }
     ],
     "prompt_number": 53
    },
    {
     "cell_type": "code",
     "collapsed": false,
     "input": [],
     "language": "python",
     "metadata": {},
     "outputs": []
    }
   ],
   "metadata": {}
  }
 ]
}